{
 "cells": [
  {
   "cell_type": "markdown",
   "id": "2d707a0d",
   "metadata": {},
   "source": [
    "# Lookalike Model Notebook\n",
    "\n",
    "This notebook implements the lookalike model to identify similar customers."
   ]
  },
  {
   "cell_type": "code",
   "execution_count": 1,
   "id": "a35573f7",
   "metadata": {},
   "outputs": [
    {
     "name": "stdout",
     "output_type": "stream",
     "text": [
      "Lookalike model completed and Lookalike.csv generated.\n"
     ]
    }
   ],
   "source": [
    "\n",
    "import pandas as pd\n",
    "from sklearn.preprocessing import LabelEncoder, StandardScaler\n",
    "from sklearn.metrics.pairwise import cosine_similarity\n",
    "\n",
    "# Load the datasets\n",
    "customers = pd.read_csv(\"Customers.csv\")\n",
    "transactions = pd.read_csv(\"Transactions.csv\")\n",
    "\n",
    "# Merge datasets\n",
    "merged = pd.merge(customers, transactions, on=\"CustomerID\")\n",
    "\n",
    "# Feature Engineering\n",
    "customer_features = merged.groupby(\"CustomerID\").agg({\n",
    "    \"TotalValue\": \"sum\",\n",
    "    \"Quantity\": \"sum\",\n",
    "    \"Region\": \"first\",\n",
    "    \"ProductID\": lambda x: x.mode()[0]\n",
    "}).reset_index()\n",
    "\n",
    "# Encode categorical features\n",
    "le = LabelEncoder()\n",
    "customer_features[\"Region\"] = le.fit_transform(customer_features[\"Region\"])\n",
    "customer_features[\"ProductID\"] = le.fit_transform(customer_features[\"ProductID\"])\n",
    "\n",
    "# Normalize numeric features\n",
    "scaler = StandardScaler()\n",
    "scaled_features = scaler.fit_transform(customer_features.iloc[:, 1:])\n",
    "\n",
    "# Compute cosine similarity\n",
    "similarity_matrix = cosine_similarity(scaled_features)\n",
    "\n",
    "# Find top 3 similar customers for the first 20 customers\n",
    "lookalike_data = {}\n",
    "for idx in range(20):\n",
    "    similar_indices = similarity_matrix[idx].argsort()[::-1][1:4]\n",
    "    similar_scores = similarity_matrix[idx][similar_indices]\n",
    "    lookalike_data[customer_features.iloc[idx, 0]] = [\n",
    "        (customer_features.iloc[i, 0], round(similar_scores[pos], 2))\n",
    "        for pos, i in enumerate(similar_indices)\n",
    "    ]\n",
    "\n",
    "# Create Lookalike.csv\n",
    "lookalike_df = pd.DataFrame([\n",
    "    {\"CustomerID\": k, \"Recommendations\": v} for k, v in lookalike_data.items()\n",
    "])\n",
    "lookalike_df.to_csv(\"Lookalike.csv\", index=False)\n",
    "\n",
    "print(\"Lookalike model completed and Lookalike.csv generated.\")\n"
   ]
  },
  {
   "cell_type": "code",
   "execution_count": 2,
   "id": "de10373a-7bab-4699-9fe6-250e80934ec3",
   "metadata": {},
   "outputs": [
    {
     "name": "stdout",
     "output_type": "stream",
     "text": [
      "[[1. 1. 1. 1. 1. 1. 1. 1. 1. 1. 1. 1. 1. 1. 1. 1. 1. 1. 1. 1. 1. 1. 1. 1.\n",
      "  1. 1. 1. 1. 1. 1. 1. 1. 1. 1. 1. 1. 1. 1. 1. 1. 1. 1. 1. 1. 1. 1. 1. 1.\n",
      "  1. 1. 1. 1. 1. 1. 1. 1. 1. 1. 1. 1. 1. 1. 1. 1. 1. 1. 1. 1. 1. 1. 1. 1.\n",
      "  1. 1. 1. 1. 1. 1. 1. 1. 1. 1. 1. 1. 1. 1. 1. 1. 1. 1. 1. 1. 1. 1. 1. 1.\n",
      "  1. 1. 1. 1. 1. 1. 1. 1. 1. 1. 1. 1. 1. 1. 1. 1. 1. 1. 1. 1. 1. 1. 1. 1.\n",
      "  1. 1. 1. 1. 1. 1. 1. 1. 1. 1. 1. 1. 1. 1. 1. 1. 1. 1. 1. 1. 1. 1. 1. 1.\n",
      "  1. 1. 1. 1. 1. 1. 1. 1. 1. 1. 1. 1. 1. 1. 1. 1. 1. 1. 1. 1. 1. 1. 1. 1.\n",
      "  1. 1. 1. 1. 1. 1. 1. 1. 1. 1. 1. 1. 1. 1. 1. 1. 1. 1. 1. 1. 1. 1. 1. 1.\n",
      "  1. 1. 1. 1. 1. 1. 1.]\n",
      " [1. 1. 1. 1. 1. 1. 1. 1. 1. 1. 1. 1. 1. 1. 1. 1. 1. 1. 1. 1. 1. 1. 1. 1.\n",
      "  1. 1. 1. 1. 1. 1. 1. 1. 1. 1. 1. 1. 1. 1. 1. 1. 1. 1. 1. 1. 1. 1. 1. 1.\n",
      "  1. 1. 1. 1. 1. 1. 1. 1. 1. 1. 1. 1. 1. 1. 1. 1. 1. 1. 1. 1. 1. 1. 1. 1.\n",
      "  1. 1. 1. 1. 1. 1. 1. 1. 1. 1. 1. 1. 1. 1. 1. 1. 1. 1. 1. 1. 1. 1. 1. 1.\n",
      "  1. 1. 1. 1. 1. 1. 1. 1. 1. 1. 1. 1. 1. 1. 1. 1. 1. 1. 1. 1. 1. 1. 1. 1.\n",
      "  1. 1. 1. 1. 1. 1. 1. 1. 1. 1. 1. 1. 1. 1. 1. 1. 1. 1. 1. 1. 1. 1. 1. 1.\n",
      "  1. 1. 1. 1. 1. 1. 1. 1. 1. 1. 1. 1. 1. 1. 1. 1. 1. 1. 1. 1. 1. 1. 1. 1.\n",
      "  1. 1. 1. 1. 1. 1. 1. 1. 1. 1. 1. 1. 1. 1. 1. 1. 1. 1. 1. 1. 1. 1. 1. 1.\n",
      "  1. 1. 1. 1. 1. 1. 1.]\n",
      " [1. 1. 1. 1. 1. 1. 1. 1. 1. 1. 1. 1. 1. 1. 1. 1. 1. 1. 1. 1. 1. 1. 1. 1.\n",
      "  1. 1. 1. 1. 1. 1. 1. 1. 1. 1. 1. 1. 1. 1. 1. 1. 1. 1. 1. 1. 1. 1. 1. 1.\n",
      "  1. 1. 1. 1. 1. 1. 1. 1. 1. 1. 1. 1. 1. 1. 1. 1. 1. 1. 1. 1. 1. 1. 1. 1.\n",
      "  1. 1. 1. 1. 1. 1. 1. 1. 1. 1. 1. 1. 1. 1. 1. 1. 1. 1. 1. 1. 1. 1. 1. 1.\n",
      "  1. 1. 1. 1. 1. 1. 1. 1. 1. 1. 1. 1. 1. 1. 1. 1. 1. 1. 1. 1. 1. 1. 1. 1.\n",
      "  1. 1. 1. 1. 1. 1. 1. 1. 1. 1. 1. 1. 1. 1. 1. 1. 1. 1. 1. 1. 1. 1. 1. 1.\n",
      "  1. 1. 1. 1. 1. 1. 1. 1. 1. 1. 1. 1. 1. 1. 1. 1. 1. 1. 1. 1. 1. 1. 1. 1.\n",
      "  1. 1. 1. 1. 1. 1. 1. 1. 1. 1. 1. 1. 1. 1. 1. 1. 1. 1. 1. 1. 1. 1. 1. 1.\n",
      "  1. 1. 1. 1. 1. 1. 1.]\n",
      " [1. 1. 1. 1. 1. 1. 1. 1. 1. 1. 1. 1. 1. 1. 1. 1. 1. 1. 1. 1. 1. 1. 1. 1.\n",
      "  1. 1. 1. 1. 1. 1. 1. 1. 1. 1. 1. 1. 1. 1. 1. 1. 1. 1. 1. 1. 1. 1. 1. 1.\n",
      "  1. 1. 1. 1. 1. 1. 1. 1. 1. 1. 1. 1. 1. 1. 1. 1. 1. 1. 1. 1. 1. 1. 1. 1.\n",
      "  1. 1. 1. 1. 1. 1. 1. 1. 1. 1. 1. 1. 1. 1. 1. 1. 1. 1. 1. 1. 1. 1. 1. 1.\n",
      "  1. 1. 1. 1. 1. 1. 1. 1. 1. 1. 1. 1. 1. 1. 1. 1. 1. 1. 1. 1. 1. 1. 1. 1.\n",
      "  1. 1. 1. 1. 1. 1. 1. 1. 1. 1. 1. 1. 1. 1. 1. 1. 1. 1. 1. 1. 1. 1. 1. 1.\n",
      "  1. 1. 1. 1. 1. 1. 1. 1. 1. 1. 1. 1. 1. 1. 1. 1. 1. 1. 1. 1. 1. 1. 1. 1.\n",
      "  1. 1. 1. 1. 1. 1. 1. 1. 1. 1. 1. 1. 1. 1. 1. 1. 1. 1. 1. 1. 1. 1. 1. 1.\n",
      "  1. 1. 1. 1. 1. 1. 1.]\n",
      " [1. 1. 1. 1. 1. 1. 1. 1. 1. 1. 1. 1. 1. 1. 1. 1. 1. 1. 1. 1. 1. 1. 1. 1.\n",
      "  1. 1. 1. 1. 1. 1. 1. 1. 1. 1. 1. 1. 1. 1. 1. 1. 1. 1. 1. 1. 1. 1. 1. 1.\n",
      "  1. 1. 1. 1. 1. 1. 1. 1. 1. 1. 1. 1. 1. 1. 1. 1. 1. 1. 1. 1. 1. 1. 1. 1.\n",
      "  1. 1. 1. 1. 1. 1. 1. 1. 1. 1. 1. 1. 1. 1. 1. 1. 1. 1. 1. 1. 1. 1. 1. 1.\n",
      "  1. 1. 1. 1. 1. 1. 1. 1. 1. 1. 1. 1. 1. 1. 1. 1. 1. 1. 1. 1. 1. 1. 1. 1.\n",
      "  1. 1. 1. 1. 1. 1. 1. 1. 1. 1. 1. 1. 1. 1. 1. 1. 1. 1. 1. 1. 1. 1. 1. 1.\n",
      "  1. 1. 1. 1. 1. 1. 1. 1. 1. 1. 1. 1. 1. 1. 1. 1. 1. 1. 1. 1. 1. 1. 1. 1.\n",
      "  1. 1. 1. 1. 1. 1. 1. 1. 1. 1. 1. 1. 1. 1. 1. 1. 1. 1. 1. 1. 1. 1. 1. 1.\n",
      "  1. 1. 1. 1. 1. 1. 1.]]\n"
     ]
    }
   ],
   "source": [
    "from sklearn.metrics.pairwise import cosine_similarity\n",
    "\n",
    "# Feature engineering\n",
    "customer_transactions = transactions.groupby('CustomerID').agg({'TotalValue': 'sum'}).reset_index()\n",
    "\n",
    "# Merging customer data\n",
    "customer_data = pd.merge(customers, customer_transactions, on=\"CustomerID\")\n",
    "\n",
    "# Calculate similarity\n",
    "similarity_matrix = cosine_similarity(customer_data[['TotalValue']])\n",
    "print(similarity_matrix[:5])"
   ]
  },
  {
   "cell_type": "code",
   "execution_count": 5,
   "id": "66ccdad8-0a93-4021-af9d-10c0eba75eb9",
   "metadata": {},
   "outputs": [
    {
     "name": "stdout",
     "output_type": "stream",
     "text": [
      "Lookalike model completed and Lookalike.csv generated.\n"
     ]
    }
   ],
   "source": [
    "import pandas as pd\n",
    "from sklearn.preprocessing import LabelEncoder, StandardScaler\n",
    "from sklearn.metrics.pairwise import cosine_similarity\n",
    "\n",
    "# Load the datasets\n",
    "customers = pd.read_csv(\"Customers.csv\")\n",
    "transactions = pd.read_csv(\"Transactions.csv\")\n",
    "\n",
    "# Merge datasets\n",
    "merged = pd.merge(customers, transactions, on=\"CustomerID\")\n",
    "\n",
    "# Feature Engineering\n",
    "customer_features = merged.groupby(\"CustomerID\").agg({\n",
    "    \"TotalValue\": \"sum\",\n",
    "    \"Quantity\": \"sum\",\n",
    "    \"Region\": \"first\",\n",
    "    \"ProductID\": lambda x: x.mode()[0]  # Most frequently purchased product\n",
    "}).reset_index()\n",
    "\n",
    "# Encode categorical features\n",
    "le = LabelEncoder()\n",
    "customer_features[\"Region\"] = le.fit_transform(customer_features[\"Region\"])\n",
    "customer_features[\"ProductID\"] = le.fit_transform(customer_features[\"ProductID\"])\n",
    "\n",
    "# Normalize numerical features\n",
    "scaler = StandardScaler()\n",
    "scaled_features = scaler.fit_transform(customer_features.iloc[:, 1:])\n",
    "\n",
    "# Compute cosine similarity\n",
    "similarity_matrix = cosine_similarity(scaled_features)\n",
    "\n",
    "# Find top 3 similar customers for the first 20 customers\n",
    "lookalike_data = {}\n",
    "for idx in range(20):\n",
    "    similar_indices = similarity_matrix[idx].argsort()[::-1][1:4]\n",
    "    similar_scores = similarity_matrix[idx][similar_indices]\n",
    "    lookalike_data[customer_features.iloc[idx, 0]] = [\n",
    "        (customer_features.iloc[i, 0], round(similar_scores[pos], 2))\n",
    "        for pos, i in enumerate(similar_indices)\n",
    "    ]\n",
    "\n",
    "# Create Lookalike.csv\n",
    "lookalike_df = pd.DataFrame([\n",
    "    {\"CustomerID\": k, \"Recommendations\": v} for k, v in lookalike_data.items()\n",
    "])\n",
    "lookalike_df.to_csv(\"Lookalike.csv\", index=False)\n",
    "\n",
    "print(\"Lookalike model completed and Lookalike.csv generated.\")"
   ]
  },
  {
   "cell_type": "code",
   "execution_count": null,
   "id": "945010d4-cc82-4ecf-8287-1938e7b8e131",
   "metadata": {},
   "outputs": [],
   "source": []
  }
 ],
 "metadata": {
  "kernelspec": {
   "display_name": "Python 3 (ipykernel)",
   "language": "python",
   "name": "python3"
  },
  "language_info": {
   "codemirror_mode": {
    "name": "ipython",
    "version": 3
   },
   "file_extension": ".py",
   "mimetype": "text/x-python",
   "name": "python",
   "nbconvert_exporter": "python",
   "pygments_lexer": "ipython3",
   "version": "3.12.7"
  }
 },
 "nbformat": 4,
 "nbformat_minor": 5
}
